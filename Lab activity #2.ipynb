{
 "cells": [
  {
   "cell_type": "code",
   "execution_count": null,
   "metadata": {},
   "outputs": [],
   "source": [
    "import numpy as np\n",
    "import matplotlib.pyplot as plt\n",
    "import matplotlib\n",
    "\n",
    "%matplotlib inline"
   ]
  },
  {
   "cell_type": "markdown",
   "metadata": {},
   "source": [
    "# Part 1: Skyline Eagle Fly"
   ]
  },
  {
   "cell_type": "code",
   "execution_count": null,
   "metadata": {},
   "outputs": [],
   "source": [
    "def track_eagle(make_figs=True):\n",
    "    long = np.random.randint(-10,10, size=3) \n",
    "    lat = np.random.randint(-10,10, size=3)  \n",
    "                                              \n",
    "                                            \n",
    "    dist1 = np.array([-7,-5])                \n",
    "    dist2 = np.array([2,-7])\n",
    "    dist3 = np.array([8,-8])\n",
    "    \n",
    "    distX = dist1[0] + dist2[0] + dist3[0]\n",
    "    distY = dist1[1] + dist2[1] + dist3[1]\n",
    "\n",
    "    dist_total = dist1 + dist2 + dist3                       \n",
    "    disp = np.sqrt((distX)**2 + (distY)**2)                              \n",
    "    alpha = 10**-6\n",
    "    theta = np.arctan(distY/alpha + distX)                            \n",
    "    theta = np.degrees(theta)               \n",
    "    \n",
    "    plt.figure(figsize=(10,10))\n",
    "    plt.title('Philippine Eagle Flight Plotter')\n",
    "    plt.xlim(-30, 30)\n",
    "    plt.ylim(-30, 30)\n",
    "    plt.xlabel('Latitudinal Distance')\n",
    "    plt.ylabel('Longitudinal Distance')\n",
    "    plt.grid()\n",
    "    n = 2\n",
    "    \n",
    "    \n",
    "    plt.quiver(0,0, dist1[0], dist1[1], \n",
    "               angles='xy', scale_units='xy',scale=1, color='red', \n",
    "               label='Trajectory 1: {:.2f}m.'.format(np.linalg.norm(dist1)))\n",
    "    plt.quiver(dist1[0], dist1[1], dist2[0], dist2[1], \n",
    "               angles='xy', scale_units='xy',scale=1, color='blue',\n",
    "              label='Trajectory 2: {:.2f}m.'.format(np.linalg.norm(dist2)))\n",
    "    plt.quiver(np.add(dist1[0],dist2[0]), np.add(dist1[1],dist2[1]),\n",
    "               dist3[0], dist3[1], angles='xy', scale_units='xy',scale=1, color='green',\n",
    "              label='Trajectory 3: {:.2f}m.'.format(np.linalg.norm(dist3)))\n",
    "    plt.quiver(0,0, dist_total[0], dist_total[1], \n",
    "               angles='xy', scale_units='xy',scale=1, color='orange',\n",
    "              label='Displacement: {:.2f}m. @ {:.2f}'.format(disp, theta))\n",
    "    \n",
    "    plt.legend()\n",
    "    \n",
    "    if make_figs:\n",
    "        plt.savefig(f'LinAlg-Lab2-PH Eagle-{int(disp)}@{int(theta)}.png', dpi=300)\n",
    "    \n",
    "    plt.show()"
   ]
  },
  {
   "cell_type": "code",
   "execution_count": null,
   "metadata": {},
   "outputs": [],
   "source": [
    "track_eagle(make_figs=False)"
   ]
  },
  {
   "cell_type": "markdown",
   "metadata": {},
   "source": [
    "## Guide questions:"
   ]
  },
  {
   "cell_type": "markdown",
   "metadata": {},
   "source": [
    "1. What is the use of the variable  α ?\n",
    "\n",
    "    It is used for compositing the element of the vectors that was been given and also it's useful for 3D modeling[1].\n",
    "    \n",
    "    \n",
    "2. Kindly explain the process of plotting the eagle flight vectors.\n",
    "\n",
    "    In the given code above the dist1,dist2,dist3 are the vectors that the arrows follows also with there displacement. Through the help of the functions that was been used the plot for the eagle can be displayed without an error and with the plt.quiver it presents the arrows of the vector.  \n",
    "    \n",
    "    \n",
    "3. Provide a flow chart describing the 'track_eagle' function. Please use LucidCharts or similar apps in making charts."
   ]
  },
  {
   "cell_type": "markdown",
   "metadata": {},
   "source": [
    "<img src=\"lab2_pic/Part1_eagle.png\" width=500 align=\"center\"/>"
   ]
  },
  {
   "cell_type": "markdown",
   "metadata": {},
   "source": [
    "###### provide 4 screenshots of the \"Philippine Eagle Flight Plotter\" figure."
   ]
  },
  {
   "cell_type": "markdown",
   "metadata": {},
   "source": [
    "<img src=\"lab2_pic/eagle_1.png\" width=450 align=\"left\"/> <img src=\"lab2_pic/eagle_2.png\" width=450 align=\"right\"/>"
   ]
  },
  {
   "cell_type": "markdown",
   "metadata": {},
   "source": [
    "<img src=\"lab2_pic/eagle_3.png\" width=450 align=\"left\"/> <img src=\"lab2_pic/eagle_4.png\" width=450 align=\"right\"/>"
   ]
  },
  {
   "cell_type": "markdown",
   "metadata": {},
   "source": [
    "# Part 2: Reverse Engineering"
   ]
  },
  {
   "cell_type": "code",
   "execution_count": null,
   "metadata": {},
   "outputs": [],
   "source": [
    "def eagle_kinematics(s, t):\n",
    "    shapes = 4\n",
    "    vec = np.zeros((shapes-1,)) # In this line the np.zero cause the value of vec to zero  \n",
    "    acce = np.zeros((shapes-2,)) # In this line the np.zero cause the value of acceleration to zero  \n",
    "    rex = np.array([t**3, t**2, t, 1]) # In this line it the vector of the rex\n",
    "    if s.shape == (shapes,):\n",
    "        vector = np.array([3*s[0],2*s[1], s[2]]) \n",
    "        acceleration = np.array([2*vector[0],vector[1]]) \n",
    "        ST = np.sum(np.multiply(s, rex)) # In this line the array of x and rex was been multiplied  \n",
    "        VT = np.sum(np.multiply(vector, rex[1:])) # In this line the array of vector and rex was been multiplied but the first value of rex will not be included   \n",
    "        AT = np.sum(np.multiply(acceleration, rex[2:])) # In this line the array of vector and rex was been multiplied but the second value of rex will not be included \n",
    "    else:\n",
    "        print(f'Input displacement vector is not valid. Make sure that the vector shape is ({shapes},)')\n",
    "    return ST, VT, AT # In this line it will be the output of the program"
   ]
  },
  {
   "cell_type": "code",
   "execution_count": null,
   "metadata": {},
   "outputs": [],
   "source": [
    "x = np.array([2,1,3,2]) # In this line it represent as s for the eagle_kinematics\n",
    "t = 2 # In this line it represent as t for the eagle_kinematics\n",
    "eagle_kinematics(x, t) "
   ]
  },
  {
   "cell_type": "markdown",
   "metadata": {},
   "source": [
    "## Guide questions:"
   ]
  },
  {
   "attachments": {},
   "cell_type": "markdown",
   "metadata": {},
   "source": [
    "1. What is the function for? Explain the inputs, process, functions used, and the outputs.\n",
    "\n",
    "    In this function it present a mathemathical computation with other function and condition. In the first part before the condition statement some variable undergo a computation but in the end vec and acce just contain a value of zero because of np.zeros so the function can disregard it but the rex still contain a value. In the if statement there are also some variable that undergo in the computation but in this part it also have other function.\n",
    "\n",
    "    \n",
    "2. Kindly provide equations for  st , vt , and  at  basing on their code.\n",
    "\n",
    "    $s_t(ST) = ∑(s * rex)$\n",
    "    \n",
    "    $v_t(VT) = ∑(vector * rex[1:])$\n",
    "    \n",
    "    $a_t(AT) = ∑(acceleration * rex[2:])$\n",
    "\n",
    "\n",
    "3. Re-type the 'eagle_kinematics' function in your jupyter notebook. Write a brief description of the function before the code cell in a markdown. Include the equations from (2.).\n",
    "\n",
    "    def - it define an objects to make function.\n",
    "    \n",
    "    np.zeroes - it makes the value of the array to zero.\n",
    "    \n",
    "    np.array - a list of vectors.\n",
    "    \n",
    "    np.sum - it sums up the element of an array.\n",
    "    \n",
    "    np.multiply - it multiplies the operands.\n",
    "    \n",
    "    if else - it is a condition statement."
   ]
  },
  {
   "cell_type": "markdown",
   "metadata": {},
   "source": [
    "# Part 3: Bebang's Online Business"
   ]
  },
  {
   "cell_type": "code",
   "execution_count": null,
   "metadata": {},
   "outputs": [],
   "source": [
    "def month_profit_trace(profit, reach, make_figs=True): \n",
    "    if (profit.shape == (5,)) and (reach.shape == (4,)): \n",
    "        week1 = np.array((reach[0], profit[0]))       \n",
    "        week2 = np.array((reach[0], profit[2]))\n",
    "        week3 = np.array((reach[2], profit[3]))\n",
    "        week4 = np.array((reach[3], profit[4]))\n",
    "        \n",
    "        end   = np.array((reach[1], profit[1])) \n",
    "    \n",
    "        weekX = week1[0] + week2[0] + week3[0] + week4[0]\n",
    "        weekY = week1[1] + week2[1] + week3[1] + week4[1]\n",
    "\n",
    "        week_total = week1 + week2 + week3 + week4     \n",
    "        week_performance = np.sqrt((weekX)**2 + (weekY)**2)\n",
    "        alpha = 10**-6\n",
    "        reach_gradient = np.arctan(weekY/alpha + weekX)   \n",
    "        \n",
    "        plt.figure(figsize=(16,5))\n",
    "        plt.title('Bebang\\'s Month Post Efficiency')\n",
    "        plt.xlim(0,1.01*np.sum(reach))\n",
    "        plt.ylim(-np.sum(np.abs(profit)),np.sum(np.abs(profit)))\n",
    "        plt.xlabel('FB Post Reach Increment')\n",
    "        plt.ylabel('Profit')\n",
    "        plt.grid()\n",
    "        n = 2\n",
    "        \n",
    "        plt.quiver(0,0, week1[0], week1[1], \n",
    "                   angles='xy', scale_units='xy',scale=1, color='yellowgreen', width=0.0025,\n",
    "                   label='Week 1: {:.2f}'.format(np.linalg.norm(week1)))\n",
    "        \n",
    "        plt.quiver(week1[0], week1[1], week2[0], week2[1], \n",
    "                   angles='xy', scale_units='xy',scale=1, color='lightgreen', width=0.0025,\n",
    "                   label='Week 2: {:.2f}'.format(np.linalg.norm(week2)))\n",
    "        \n",
    "        plt.quiver(np.add(week1[0],week2[0]), np.add(week1[1], week2[1]), week3[0], week3[1], \n",
    "                   angles='xy', scale_units='xy',scale=1, color='green', width=0.0025,\n",
    "                   label='Week 3: {:.2f}'.format(np.linalg.norm(week3)))\n",
    "        \n",
    "        plt.quiver(np.add(end[0],week3[0]), np.add(end[1], week3[1]), week4[0], week4[1], \n",
    "                   angles='xy', scale_units='xy',scale=1, color='darkgreen', width=0.0025,\n",
    "                   label='Week 4: {:.2f}'.format(np.linalg.norm(week4)))\n",
    "        \n",
    "        plt.quiver(0,0, week_total[0], week_total[1], \n",
    "                   angles='xy', scale_units='xy',scale=1, color='red', width=0.005,\n",
    "                  label='Efficiency: {:.2f} @ {:.2f}'.format(week_performance, reach_gradient))\n",
    "        \n",
    "        \n",
    "        plt.legend(loc='upper left')\n",
    "\n",
    "        if make_figs:\n",
    "            plt.savefig(f'LinAlg-Lab2-Bebang Post Eff-{int(week_performance)}@{int(reach_gradient)}.png', dpi=300)\n",
    "\n",
    "        plt.show()\n",
    "    \n",
    "    else:\n",
    "        print('Somethings with your profit/reach') "
   ]
  },
  {
   "cell_type": "code",
   "execution_count": null,
   "metadata": {},
   "outputs": [],
   "source": [
    "profit= np.array([-18000, -15000,  3000, 12000, 10000])  \n",
    "reach = np.array([100, 200, 500, 10])             \n",
    "\n",
    "month_profit_trace(profit, reach, make_figs=False) "
   ]
  },
  {
   "cell_type": "markdown",
   "metadata": {},
   "source": [
    "## Guide questions:"
   ]
  },
  {
   "cell_type": "markdown",
   "metadata": {},
   "source": [
    "1. What is the relationship between the FB post reach and the profit?\n",
    "\n",
    "    Most of the people use social media to sell there product specially in FB, so the more people selled product in FB the more the profit goes up.  \n",
    "\n",
    "    \n",
    "2. Why is profit in the y-axis and FB post reach on the x-axis and not the other way around?\n",
    "\n",
    "    It's because the profit is dependent on the FB post so we cannot put them in different axis.\n",
    "\n",
    "    \n",
    "3. Kindly explain the process of plotting the post efficiency vectors.\n",
    "\n",
    "    In the codes above the week1 up to week4 are depending in given values of the profit and reach. Using the functions that was been used in part one in this Lab activity both of them used the same functions but there are some difference between them especially in the plotting of the vectors. The plotting start from the origin which is in the left side then the values of the vectors are dependent to the values of profit and reach. In the end to end arrow head the week4 cannot be placed there but there was another vector named \"end\" that push the week for in its position.  \n",
    "\n",
    "    \n",
    "4. Provide a necessary equations that are representative to finding the  performanceweek  and  reachgradient.\n",
    "\n",
    "    In performanceweek the equation that was been used to find the value is: \n",
    "    \n",
    "    week_performance = $np.sqrt((weekX)**2 + (weekY)**2)$\n",
    "    \n",
    "    For the value of the reachgradient is:\n",
    "    \n",
    "    reach_gradient = $np.arctan(weekY/alpha + weekX)$\n",
    "    \n",
    "    \n",
    "5. Try to alter the 'reach' and 'profit' values to display different scenarios. Save at least 3 scenarios then append and discuss the figures in your report."
   ]
  },
  {
   "cell_type": "markdown",
   "metadata": {},
   "source": [
    "<img src=\"lab2_pic/bebang_1.png\" width=450 height =300 align=\"left\"/> <img src=\"lab2_pic/bebang_2.png\" width=450 height =300 align=\"left\"/>"
   ]
  },
  {
   "cell_type": "markdown",
   "metadata": {},
   "source": [
    "<img src=\"lab2_pic/bebang_3.png\" width=450 height =300 align=\"center\"/>"
   ]
  },
  {
   "cell_type": "markdown",
   "metadata": {},
   "source": [
    "In the pictures above it presents that there are many changes and they have different values but there is line that does not follow to the end to end arrow head. The reason why the small line or the week4 is not connected to the end to end arrow head it's because it was manually plotted, it was not clearly connected to the week3 arrow head. I tried to look up in other way that it can be possible to connect week4 but it will be difficult for the program, but still I provide the needed output for the program. "
   ]
  },
  {
   "cell_type": "markdown",
   "metadata": {},
   "source": [
    "6. What can be observed and concluded with the behavior of the vectors with respect to post efficiency?\n",
    "\n",
    "    By observing the behavior of the vector with the respect to post efficiency is that even though the value that bebang earn in profit is not quite to big it still raised upward."
   ]
  },
  {
   "cell_type": "markdown",
   "metadata": {},
   "source": [
    "## References"
   ]
  },
  {
   "cell_type": "markdown",
   "metadata": {},
   "source": [
    "[1] “How Is Alpha Used in Your Motion Vectors? - RE:Vision Effects.” Accessed October 3, 2020. https://revisionfx.com/faq/motion_vector_alpha/. "
   ]
  }
 ],
 "metadata": {
  "kernelspec": {
   "display_name": "Python 3",
   "language": "python",
   "name": "python3"
  },
  "language_info": {
   "codemirror_mode": {
    "name": "ipython",
    "version": 3
   },
   "file_extension": ".py",
   "mimetype": "text/x-python",
   "name": "python",
   "nbconvert_exporter": "python",
   "pygments_lexer": "ipython3",
   "version": "3.8.3"
  }
 },
 "nbformat": 4,
 "nbformat_minor": 4
}
